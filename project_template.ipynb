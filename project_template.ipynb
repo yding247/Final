{
 "cells": [
  {
   "attachments": {},
   "cell_type": "markdown",
   "metadata": {},
   "source": [
    "# ECON 148 Final Project Template\n",
    "### Summer 2023\n",
    "\n"
   ]
  },
  {
   "attachments": {},
   "cell_type": "markdown",
   "metadata": {},
   "source": [
    "### How to use this template: \n",
    "* Keep the workflow unchanged \n",
    "* Include your code appropriately \n",
    "* Use markdown for breakdowns, results, diagnostics, and interpretation  \n",
    "* Remove unnecessary information from the template like this cell\n",
    "* Provide code in `.ipynb` and `.pdf` files \n",
    "* Make your data available  "
   ]
  },
  {
   "attachments": {},
   "cell_type": "markdown",
   "metadata": {
    "id": "a5j45okXqyhW"
   },
   "source": [
    "# YOUR TITLE HERE\n",
    "\n",
    "### Group Members: \n",
    "_Group member names here in alphabetical order_\n",
    "\n",
    "Provide information about the role of each student in the project such as hours spent and/or percantage workload. "
   ]
  },
  {
   "attachments": {},
   "cell_type": "markdown",
   "metadata": {
    "id": "Umm4luM_qyhX"
   },
   "source": [
    "## Project Requirements \n",
    "**(delete this markdown cell in your final submission)**\n",
    "\n",
    "**How to use this notebook**:  This notebook is the template for your final project.  Each markdown cell provides instructions on what to do in order to complete a successful project.  The cell you're reading right now is the only one you can delete from what you eventually hand in.  For the other cells:\n",
    "1. You may replace the instructions in each cell with your own work but do not edit the cell titles (with the exception of the project title, above).  \n",
    "2. Follow the instructions in each section carefully.  For some sections you will enter only markdown text in the existing cells. For other sections, you'll accompany the markdown cells with additional code cells, and perhaps more markdown, before moving on to the next section.  \n",
    "\n",
    "**Deliverables**.  You'll see point allocations listed in each of the section titles below.  In addition, there are other categories for points: \n",
    "1. Project background and objective (5 points).\n",
    "2. Data and variable description (5 points).\n",
    "3. Exploratory Data Analysis (EDA): Inferential statistics, Principal Component Analysis (PCA), handling numerical and categorical variables separately, feature engineering, and so on. (30 points).\n",
    "4. Modeling: Econometric and machine learning (ML) models with the main idea of using ML models to see if there is improvement in econometric models (30 points).\n",
    "5. Interpretation and Conclusions (10 points).\n",
    "6. Presentation (20 points).\n",
    "7. Reproducibility (Optional, 2 points). (It is recommended to use colab or create github account for the project. If you includes your colab link or github repo in the notebook, you can earn 2 extra points).\n",
    "\n",
    "**Grading**. For each section, we will award points according to the following percentage scale:\n",
    "1. Excellent (above 90%): Work that is free of all but the most minor errors and demonstrates creativity and/or a very deep understanding of what you are doing.\n",
    "2. Good (80-90%): Work that is free of fundamental errors and demonstrates a basic understanding of what you're doing.\n",
    "3. Fair (60-80%): Work with fundamental errors in analysis and/or conveys a lack of understanding of the basics of the work you are attempting to do.\n",
    "4. Lacking (below 60%): Work that is severely lacking or incomplete.  "
   ]
  },
  {
   "attachments": {},
   "cell_type": "markdown",
   "metadata": {},
   "source": [
    "## Source Data - Opportunity Insights\n",
    "\n",
    "In order to make the project consistent across teams, we are limiting the project to a specific set of datasets that are linked to economics journal articles.  \n",
    "\n",
    "Browse and choose one of the datasets from Harvard Professor Raj Chetty's [Equality of Opportunity Project](http://www.equality-of-opportunity.org/data/). You will find them neatly presented (and mostly cleaned) together with the title of the corresponding research paper. \n",
    "\n",
    "You should start by reading the accompanying paper, and start your analysis by exploring some of the claims or analysis that you find in the paper (it is not your goal to fully replicate the analysis in the paper). You should then propose some new analysis that you can do with the dataset. \n"
   ]
  },
  {
   "attachments": {},
   "cell_type": "markdown",
   "metadata": {
    "id": "2SmFenIhqyhY"
   },
   "source": [
    "## Project Background & Objective (5 points)\n",
    "In this section you will describe relevant background for your project. You are expected to identify and read the journal article that the dataset is supporting. You should review any claims in the article that you pursue in your analysis.   It should give enough information that a non-expert can understand in detail the history and / or context of the system or setting you wish to study, the need for quantitative analysis, and, broadly, what impact a quantitative analyses could have on the system."
   ]
  },
  {
   "attachments": {},
   "cell_type": "markdown",
   "metadata": {
    "id": "Uu9JTpv-qyhZ"
   },
   "source": [
    "Also you will pose the central objective or objectives for your semester project.  Objectives should be extremely clear, well-defined and clearly cast as prediction or inference problems.  \n",
    "\n",
    "Some examples of prediction questions (from a wide range of topics, not only economics!)\n",
    "1. _\"The purpose of this project is to measure the impacts of location on innovation by a predition model on innovation based on geographic indicators.\"_ or\n",
    "2. _\"The purpose of this project is to train and evaluate different models to predict inter-generational mobility based on characteristics of where a person group up.\"_ or\n",
    "3. _\"The purpose of this project is to build a classifier for universities where a student has a high chance of social mobility.\"_\n",
    "\n",
    "You should reflect here on why it's important to answer these questions.  In most cases this will mean that you'll frame the answers to your questions as informing one or more economic decisions / questions. If you have done a good job of providing project background (in the cell above) then this reflection will be short and easy to write.\n",
    "\n",
    "\n",
    "Shoot for 350 words here."
   ]
  },
  {
   "attachments": {},
   "cell_type": "markdown",
   "metadata": {
    "id": "lhaahw4dqyhZ"
   },
   "source": [
    "## Data Description (5 points)\n",
    "Here you will provide an initial description of your data sets, including:\n",
    "1. The origins of your data.  What is the corresponding paper of your data?\n",
    "2. The structure, granularity, scope of your data.  To discuss these attributes you should load the data into one or more data frames (so you'll start building code cells for the first time).  At a minimum, use some basic methods (`.head`, `.loc`, and so on) to provide support for the descriptions. \n",
    "3. You should also describe which data fields you will use as your target variables (explained variables), and which you will use as features (explanatory variables).  \n",
    "\n",
    "You will want to read the paper carefully and summarize in your own words how the Opportunity Insights team has constructed the datasets.  "
   ]
  },
  {
   "attachments": {},
   "cell_type": "markdown",
   "metadata": {
    "id": "Q2kmDu5Sqyha"
   },
   "source": [
    "## Exploratory Data Analysis (30 points)\n",
    "\n",
    "In this section, you will use data science methods to prepare data for estimations/predictions in modeling section. Keep in mind that EDA is where you uncover the patterns of associations in your data. Use EDA to understand the relationships among the variables, and PCA and feature engineering to have hands-on information about the most important features in advance. You are all set for modeling! "
   ]
  },
  {
   "attachments": {},
   "cell_type": "markdown",
   "metadata": {
    "id": "I6qh5Pjcqyhb"
   },
   "source": [
    "## Modeling (30 points)\n",
    "\n",
    "In this section, you should use data science and machine learning techniques to improve econometric analysis in the papers you will pick, preferably. If you are unable to carry out econometric analysis, you will make predictions using the most appropriate ML algorithms. Start with baseline models, as we did during the lectures, and improve the models using the appropriate regularization methods, and pick the best prediction for unseen future data after model evaluation. Use some ML models only for feature importance, which also should be used as a linkage with econometric analysis. Again, follow the workflow in our in-class coding practices. "
   ]
  },
  {
   "attachments": {},
   "cell_type": "markdown",
   "metadata": {
    "id": "HSk4555Rqyhc"
   },
   "source": [
    "## Interpretation and Conclusions (10 points)\n",
    "In this section you must relate your modeling and forecasting results to your original prediction question.  You must:\n",
    "1. Address an economic question.  What do the answers mean? What advice would you give a decision maker on the basis of your results?  How might they allocate their resources differently or change their decisions with the results of your model?  Why should the reader care about your results?\n",
    "2. Discuss caveats and / or reasons your results might be flawed.  No model is perfect, and understanding a model's imperfections is extremely important for the purpose of knowing how to interpret your results.  Often, we know the model output is wrong but we can assign a direction for its bias.  This helps to understand whether or not your answers are conservative.  \n",
    "\n",
    "Shoot for 500 words for this section."
   ]
  },
  {
   "attachments": {},
   "cell_type": "markdown",
   "metadata": {
    "id": "n7Uzby6q0ky9"
   },
   "source": [
    "## Reproducibility (Optional, 2 points)\n",
    "\n",
    "Describe the ways you used to keep reproducibility briefly and include your colab or github link.\n",
    "\n",
    "We are anticipating that the easiest way to share will be via Google Colab. You are welcome to work on Datahub, Github, or any way you like."
   ]
  },
  {
   "attachments": {},
   "cell_type": "markdown",
   "metadata": {
    "id": "j80JankPqyhd"
   },
   "source": [
    "## Presentation (20 points)\n",
    "**(delete this markdown cell in your final submission)**"
   ]
  }
 ],
 "metadata": {
  "colab": {
   "provenance": []
  },
  "kernelspec": {
   "display_name": "Python 3",
   "language": "python",
   "name": "python3"
  },
  "language_info": {
   "codemirror_mode": {
    "name": "ipython",
    "version": 3
   },
   "file_extension": ".py",
   "mimetype": "text/x-python",
   "name": "python",
   "nbconvert_exporter": "python",
   "pygments_lexer": "ipython3",
   "version": "3.7.4"
  }
 },
 "nbformat": 4,
 "nbformat_minor": 4
}
